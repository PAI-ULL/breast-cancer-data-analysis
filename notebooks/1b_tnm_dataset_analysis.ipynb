{
 "cells": [
  {
   "cell_type": "code",
   "execution_count": null,
   "metadata": {},
   "outputs": [],
   "source": [
    "# import libraries\n",
    "import pandas as pd\n",
    "import numpy as np\n",
    "\n",
    "from sklearn.impute import SimpleImputer\n",
    "\n",
    "# from paths import RAW_DIR\n",
    "RAW_DIR = \"/home/pablo/Desktop/data-process/breast-cancer-data-analysis/data/raw/\""
   ]
  },
  {
   "cell_type": "markdown",
   "metadata": {},
   "source": [
    "### Import the data"
   ]
  },
  {
   "cell_type": "code",
   "execution_count": null,
   "metadata": {},
   "outputs": [],
   "source": [
    "tnm1 = pd.read_csv(RAW_DIR + \"breast_cancer_data_tnm.csv\")\n",
    "tnm2 = pd.read_csv(RAW_DIR + \"breast_cancer_data_tnm_2.csv\")"
   ]
  },
  {
   "cell_type": "code",
   "execution_count": null,
   "metadata": {},
   "outputs": [],
   "source": [
    "# concatenate the two datasets\n",
    "data_tnm = pd.concat([tnm1, tnm2])\n",
    "data_tnm"
   ]
  },
  {
   "cell_type": "code",
   "execution_count": null,
   "metadata": {},
   "outputs": [],
   "source": [
    "cat = (data_tnm.dtypes == object)\n",
    "cat_cols = data_tnm.columns[cat].tolist()\n",
    "\n",
    "for column in cat_cols:\n",
    "  print(column, data_tnm[column].unique())"
   ]
  },
  {
   "cell_type": "markdown",
   "metadata": {},
   "source": [
    "### NULL values"
   ]
  },
  {
   "cell_type": "code",
   "execution_count": null,
   "metadata": {},
   "outputs": [],
   "source": [
    "print(data_tnm.isnull().sum())\n",
    "data_tnm.info()"
   ]
  },
  {
   "cell_type": "code",
   "execution_count": null,
   "metadata": {},
   "outputs": [],
   "source": [
    "data_tnm['t'] = 'T' + data_tnm['t'].fillna('X').astype(str).replace('\\.0', '', regex=True)\n",
    "data_tnm['n'] = 'N' + data_tnm['n'].fillna('X').astype(str).replace('\\.0', '', regex=True)\n",
    "data_tnm['m'] = 'M' + data_tnm['m'].fillna('X').astype(str).replace('\\.0', '', regex=True)\n",
    "\n",
    "data_tnm['t_after_neoadj'] = 'T' + data_tnm['t_after_neoadj'].fillna('X').astype(str).replace('\\.0', '', regex=True)\n",
    "data_tnm['n_after_neoadj'] = 'N' + data_tnm['n_after_neoadj'].fillna('X').astype(str).replace('\\.0', '', regex=True)\n",
    "data_tnm['m_after_neoadj'] = 'M' + data_tnm['m_after_neoadj'].fillna('X').astype(str).replace('\\.0', '', regex=True)\n"
   ]
  },
  {
   "cell_type": "code",
   "execution_count": null,
   "metadata": {},
   "outputs": [],
   "source": [
    "# data_tnm['t'] = data_tnm['t'].fillna('X')\n",
    "# data_tnm['n'] = pd.to_numeric(data_tnm['n'], errors='coerce', downcast='integer').fillna('X')\n",
    "# data_tnm['m'] = pd.to_numeric(data_tnm['m'], errors='coerce', downcast='integer').fillna('X')\n",
    "# # data_tnm['t_after_neoadj'] = pd.to_numeric(data_tnm['t_after_neoadj'], errors='ignore', downcast='integer')\n",
    "# data_tnm['n_after_neoadj'] = pd.to_numeric(data_tnm['n_after_neoadj'], errors='coerce', downcast='integer').fillna('X')\n",
    "# # data_tnm['m_after_neoadj'] = pd.to_numeric(data_tnm['m_after_neoadj'], errors='coerce', downcast='integer').fillna('X')"
   ]
  },
  {
   "cell_type": "code",
   "execution_count": null,
   "metadata": {},
   "outputs": [],
   "source": [
    "# data_tnm['t_after_neoadj'].fillna('X', inplace=True)\n",
    "# data_tnm['m_after_neoadj'] = data_tnm['m_after_neoadj'].astype('object').fillna('X')\n",
    "# data_tnm['n_after_neoadj'] = data_tnm['n_after_neoadj'].astype('object').fillna('X')\n",
    "data_tnm\n",
    "# to_numeric()"
   ]
  },
  {
   "cell_type": "code",
   "execution_count": null,
   "metadata": {},
   "outputs": [],
   "source": [
    "print(data_tnm.info())\n",
    "data_tnm.isnull().sum()"
   ]
  },
  {
   "cell_type": "code",
   "execution_count": null,
   "metadata": {},
   "outputs": [],
   "source": [
    "# Users can be duplicated for diff tumor types\n",
    "data_tnm[data_tnm.ehr.duplicated(keep=False)]"
   ]
  },
  {
   "cell_type": "code",
   "execution_count": null,
   "metadata": {},
   "outputs": [],
   "source": [
    "cat = (data_tnm.dtypes == object)\n",
    "cat_cols = data_tnm.columns[cat].tolist()\n",
    "\n",
    "for column in cat_cols:\n",
    "  print(column, data_tnm[column].unique())"
   ]
  },
  {
   "cell_type": "code",
   "execution_count": null,
   "metadata": {},
   "outputs": [],
   "source": [
    "data_tnm.loc[data_tnm.t.eq(\"TIS\"), ['t', 't_after_neoadj']].value_counts(dropna=False)"
   ]
  },
  {
   "cell_type": "code",
   "execution_count": null,
   "metadata": {},
   "outputs": [],
   "source": [
    "len(data_tnm['ehr'].unique())"
   ]
  },
  {
   "cell_type": "code",
   "execution_count": null,
   "metadata": {},
   "outputs": [],
   "source": [
    "data_tnm['t'].value_counts()"
   ]
  },
  {
   "cell_type": "code",
   "execution_count": null,
   "metadata": {},
   "outputs": [],
   "source": [
    "data_tnm['t_after_neoadj'].value_counts()"
   ]
  }
 ],
 "metadata": {
  "kernelspec": {
   "display_name": "Python 3.10.6 64-bit",
   "language": "python",
   "name": "python3"
  },
  "language_info": {
   "codemirror_mode": {
    "name": "ipython",
    "version": 3
   },
   "file_extension": ".py",
   "mimetype": "text/x-python",
   "name": "python",
   "nbconvert_exporter": "python",
   "pygments_lexer": "ipython3",
   "version": "3.10.6"
  },
  "orig_nbformat": 4,
  "vscode": {
   "interpreter": {
    "hash": "916dbcbb3f70747c44a77c7bcd40155683ae19c65e1c03b4aa3499c5328201f1"
   }
  }
 },
 "nbformat": 4,
 "nbformat_minor": 2
}
