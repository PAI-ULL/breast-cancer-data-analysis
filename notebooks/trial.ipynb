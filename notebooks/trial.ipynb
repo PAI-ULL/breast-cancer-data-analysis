{
 "cells": [
  {
   "cell_type": "code",
   "execution_count": 1,
   "metadata": {},
   "outputs": [],
   "source": [
    "# import libraries\n",
    "import pandas as pd\n",
    "import numpy as np\n",
    "import datetime as dt\n",
    "\n",
    "from sklearn.impute import SimpleImputer\n",
    "\n",
    "from paths import RAW_DIR"
   ]
  },
  {
   "cell_type": "code",
   "execution_count": null,
   "metadata": {},
   "outputs": [],
   "source": [
    "# function\n",
    "\n",
    "def add_col(data, to_add, to_remove):\n",
    "    \n",
    "    data[to_add] = np.where(data[to_remove].isna(), 0, 1)\n",
    "    \n",
    "    data = data.drop([to_remove], axis=1)\n",
    "    return data"
   ]
  },
  {
   "cell_type": "markdown",
   "metadata": {},
   "source": [
    "### Import the data"
   ]
  },
  {
   "cell_type": "code",
   "execution_count": 2,
   "metadata": {},
   "outputs": [],
   "source": [
    "tnm1 = pd.read_csv(RAW_DIR / \"breast_cancer_data_tnm.csv\")\n",
    "tnm2 = pd.read_csv(RAW_DIR / \"breast_cancer_data_tnm_2.csv\")\n",
    "\n",
    "df1 = pd.read_excel(RAW_DIR / \"breast_cancer_data.xlsx\")\n",
    "df2 = pd.read_excel(RAW_DIR / \"breast_cancer_data_2.xlsx\")"
   ]
  },
  {
   "cell_type": "code",
   "execution_count": null,
   "metadata": {},
   "outputs": [],
   "source": [
    "# concatenate the two datasets\n",
    "data = pd.concat([df1, df2]).set_index('ehr')\n",
    "data"
   ]
  },
  {
   "cell_type": "code",
   "execution_count": null,
   "metadata": {},
   "outputs": [],
   "source": [
    "# concatenate the two datasets\n",
    "data_tnm = pd.concat([tnm1, tnm2]).set_index('ehr')\n",
    "data_tnm"
   ]
  },
  {
   "cell_type": "markdown",
   "metadata": {},
   "source": [
    "### Creating new columns"
   ]
  },
  {
   "cell_type": "code",
   "execution_count": null,
   "metadata": {},
   "outputs": [],
   "source": [
    "data = add_col(data, 'dead', 'death_date')\n",
    "data = add_col(data, 'recurrence', 'recurrence_year')\n",
    "data = add_col(data, 'menopause', 'menopause_age')"
   ]
  },
  {
   "cell_type": "code",
   "execution_count": null,
   "metadata": {},
   "outputs": [],
   "source": [
    "data['age']=(dt.datetime.today()\\\n",
    "            -pd.to_datetime(data['birth_date'])).astype('timedelta64[Y]')"
   ]
  },
  {
   "cell_type": "code",
   "execution_count": null,
   "metadata": {},
   "outputs": [],
   "source": [
    "data['years_from_diagnosis']=(dt.datetime.today()\\\n",
    "            -pd.to_datetime(data['diagnosis_date'])).astype('timedelta64[Y]')"
   ]
  },
  {
   "cell_type": "markdown",
   "metadata": {},
   "source": [
    "### Drop columns"
   ]
  },
  {
   "cell_type": "code",
   "execution_count": null,
   "metadata": {},
   "outputs": [],
   "source": [
    "data.isnull().sum()"
   ]
  },
  {
   "cell_type": "code",
   "execution_count": null,
   "metadata": {},
   "outputs": [],
   "source": [
    "# drop birth_date, Unnamed: 0 (not useful) and side (more than 200 null)\n",
    "# caesarean also has more than 200 null\n",
    "data = data.drop(['Unnamed: 0',\n",
    "                  'birth_date',\n",
    "                  'diagnosis_date',\n",
    "                  'caesarean',\n",
    "                  'side'], axis=1)\n",
    "data.head(20)"
   ]
  },
  {
   "cell_type": "code",
   "execution_count": null,
   "metadata": {},
   "outputs": [],
   "source": [
    "data.info()"
   ]
  },
  {
   "cell_type": "markdown",
   "metadata": {},
   "source": [
    "### Map values and replace with most frequent"
   ]
  },
  {
   "cell_type": "code",
   "execution_count": null,
   "metadata": {},
   "outputs": [],
   "source": [
    "# checking the values of all the features using value counts\n",
    "categoricals = ['neoadjuvant', 'hist_type']\n",
    "\n",
    "for feature in categoricals:\n",
    "    print(f\"Values Counts for [{feature}]\")\n",
    "    print(data[feature].value_counts())\n",
    "    print(\"\\n\\n\")"
   ]
  },
  {
   "cell_type": "code",
   "execution_count": null,
   "metadata": {},
   "outputs": [],
   "source": [
    "data['neoadjuvant'] = data['neoadjuvant'].map({'no': 0, 'yes': 1})\n",
    "data['neoadjuvant'].value_counts()"
   ]
  },
  {
   "cell_type": "code",
   "execution_count": null,
   "metadata": {},
   "outputs": [],
   "source": [
    "ordinal_col = ['hist_type']\n",
    "data_dum = pd.get_dummies(data, columns = ordinal_col)"
   ]
  },
  {
   "cell_type": "code",
   "execution_count": null,
   "metadata": {},
   "outputs": [],
   "source": [
    "# replace with most frequent value\n",
    "for column in ['neoadjuvant','grade', 'invasive', 'er_positive', 'pr_positive', 'her2_positive', 'ki67', 'menarche_age']:\n",
    "    data_dum[column].fillna(data_dum[column].mode()[0], inplace=True)\n",
    "    \n",
    "# replace with mean value\n",
    "#for column in ['ki67']:                                           ## mode=10, mean=20.4\n",
    "#    data_dum[column].fillna(data_dum[column].mean(), inplace=True)"
   ]
  },
  {
   "cell_type": "code",
   "execution_count": null,
   "metadata": {},
   "outputs": [],
   "source": [
    "data_dum.info()"
   ]
  },
  {
   "cell_type": "code",
   "execution_count": null,
   "metadata": {},
   "outputs": [],
   "source": []
  },
  {
   "cell_type": "code",
   "execution_count": null,
   "metadata": {},
   "outputs": [],
   "source": []
  }
 ],
 "metadata": {
  "kernelspec": {
   "display_name": "Python 3 (ipykernel)",
   "language": "python",
   "name": "python3"
  },
  "language_info": {
   "codemirror_mode": {
    "name": "ipython",
    "version": 3
   },
   "file_extension": ".py",
   "mimetype": "text/x-python",
   "name": "python",
   "nbconvert_exporter": "python",
   "pygments_lexer": "ipython3",
   "version": "3.9.13"
  },
  "vscode": {
   "interpreter": {
    "hash": "d7caac3c13166b51166462c78fd3a0f48ae424f75ecdaa75fab4d4748ca1b6a3"
   }
  }
 },
 "nbformat": 4,
 "nbformat_minor": 2
}
